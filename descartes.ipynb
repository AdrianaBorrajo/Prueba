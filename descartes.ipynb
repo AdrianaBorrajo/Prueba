version https://git-lfs.github.com/spec/v1
oid sha256:84a4543a9a9d06bef1dc5a64a346ad44d5f29f42b128134d318b5b15ff951705
size 4434

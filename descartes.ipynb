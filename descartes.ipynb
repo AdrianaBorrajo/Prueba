{
 "cells": [
  {
   "cell_type": "code",
   "execution_count": null,
   "id": "6a62230e",
   "metadata": {},
   "outputs": [],
   "source": [
    "## Poblacion"
   ]
  },
  {
   "cell_type": "code",
   "execution_count": 1,
   "id": "34d87346",
   "metadata": {},
   "outputs": [
    {
     "ename": "NameError",
     "evalue": "name 'PoblacionHombres' is not defined",
     "output_type": "error",
     "traceback": [
      "\u001b[0;31m---------------------------------------------------------------------------\u001b[0m",
      "\u001b[0;31mNameError\u001b[0m                                 Traceback (most recent call last)",
      "\u001b[0;32m/tmp/ipykernel_3351/3019251638.py\u001b[0m in \u001b[0;36m<module>\u001b[0;34m\u001b[0m\n\u001b[0;32m----> 1\u001b[0;31m \u001b[0mPoblacionHombres\u001b[0m\u001b[0;34m[\u001b[0m\u001b[0mPoblacionHombres\u001b[0m\u001b[0;34m[\u001b[0m\u001b[0;34m'Descripcion'\u001b[0m\u001b[0;34m]\u001b[0m\u001b[0;34m.\u001b[0m\u001b[0mstr\u001b[0m\u001b[0;34m.\u001b[0m\u001b[0mcontains\u001b[0m\u001b[0;34m(\u001b[0m\u001b[0;34m'Ènova, l\\'.'\u001b[0m\u001b[0;34m)\u001b[0m\u001b[0;34m]\u001b[0m\u001b[0;34m\u001b[0m\u001b[0;34m\u001b[0m\u001b[0m\n\u001b[0m",
      "\u001b[0;31mNameError\u001b[0m: name 'PoblacionHombres' is not defined"
     ]
    }
   ],
   "source": [
    "PoblacionHombres[PoblacionHombres['Descripcion'].str.contains('Ènova, l\\'.')]"
   ]
  },
  {
   "cell_type": "code",
   "execution_count": null,
   "id": "9c46aa3f",
   "metadata": {},
   "outputs": [],
   "source": [
    "PoblacionHombres = PoblacionHombres.replace('Ènova, l\\'.','Énova, l\\'', regex=True)\n",
    "PoblacionMujeres = PoblacionMujeres.replace('Ènova, l\\'.','Énova, l\\'', regex=True)\n",
    "PoblacionTotal = PoblacionTotal.replace('Ènova, l\\'.','Énova, l\\'', regex=True)"
   ]
  },
  {
   "cell_type": "code",
   "execution_count": null,
   "id": "391542a8",
   "metadata": {},
   "outputs": [],
   "source": [
    "## quitar los nan"
   ]
  },
  {
   "cell_type": "code",
   "execution_count": null,
   "id": "118b6add",
   "metadata": {},
   "outputs": [],
   "source": [
    "print(ExplotacionesAves20['Nº Explotaciones Aves'].isnull().sum())"
   ]
  },
  {
   "cell_type": "code",
   "execution_count": null,
   "id": "3d973424",
   "metadata": {},
   "outputs": [],
   "source": [
    "ExploGanaderas2020 = ExploGanaderas2020[ExploGanaderas2020['NumeroExploGanaderas'].notna()]\n",
    "HectaGanaderas2020 = HectaGanaderas2020[HectaGanaderas2020['NumeroHectaGanaderas'].notna()]"
   ]
  },
  {
   "cell_type": "code",
   "execution_count": null,
   "id": "6878aab2",
   "metadata": {},
   "outputs": [],
   "source": [
    "SucursalesBancarias20 = SucursalesBancarias20.fillna(0)"
   ]
  },
  {
   "cell_type": "code",
   "execution_count": null,
   "id": "8535f8f1",
   "metadata": {},
   "outputs": [],
   "source": [
    "driver.find_element_by_xpath('/html/body/div[1]/main/form/ul/li[1]/ul/li[2]/div/fieldset/select/option[1]').click()\n",
    "    time.sleep(2)\n",
    "    driver.find_element_by_xpath('/html/body/div[1]/main/form/ul/li[1]/ul/li[2]/div/fieldset/select/option[5]').click()\n",
    "    time.sleep(2)"
   ]
  },
  {
   "cell_type": "code",
   "execution_count": null,
   "id": "12a4c2c5",
   "metadata": {},
   "outputs": [],
   "source": [
    "RentaMediaHogar20['Y2020'] = 2020\n",
    "PrimeraColumna = RentaMediaHogar20.pop('Y2020')\n",
    "RentaMediaHogar20.insert(0,'Y2020', PrimeraColumna)\n",
    "RentaMediaHogar20.head()"
   ]
  },
  {
   "cell_type": "code",
   "execution_count": null,
   "id": "cffe1ca4",
   "metadata": {},
   "outputs": [],
   "source": [
    "Los campos que tienen un valor menor que 5, por secreto estadístico, le asignan un asterisco.\n",
    "Sustituimos este valor por la media: 2"
   ]
  },
  {
   "cell_type": "code",
   "execution_count": null,
   "id": "d3ed8d02",
   "metadata": {},
   "outputs": [],
   "source": [
    "Edades11.replace('*', 2, inplace = True)"
   ]
  }
 ],
 "metadata": {
  "kernelspec": {
   "display_name": "Python 3 (ipykernel)",
   "language": "python",
   "name": "python3"
  },
  "language_info": {
   "codemirror_mode": {
    "name": "ipython",
    "version": 3
   },
   "file_extension": ".py",
   "mimetype": "text/x-python",
   "name": "python",
   "nbconvert_exporter": "python",
   "pygments_lexer": "ipython3",
   "version": "3.8.11"
  }
 },
 "nbformat": 4,
 "nbformat_minor": 5
}
